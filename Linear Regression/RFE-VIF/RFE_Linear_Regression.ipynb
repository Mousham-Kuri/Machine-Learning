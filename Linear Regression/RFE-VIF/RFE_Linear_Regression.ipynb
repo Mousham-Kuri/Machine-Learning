{
  "nbformat": 4,
  "nbformat_minor": 0,
  "metadata": {
    "colab": {
      "name": "RFE - Linear Regression.ipynb",
      "provenance": [],
      "collapsed_sections": []
    },
    "kernelspec": {
      "name": "python3",
      "display_name": "Python 3"
    },
    "language_info": {
      "name": "python"
    }
  },
  "cells": [
    {
      "cell_type": "code",
      "metadata": {
        "id": "SGl5XvolXWu0"
      },
      "source": [
        "# https://www.kaggle.com/seshadrikolluri/ansur-ii\n",
        "\n",
        "# Dataset Link\n",
        "# https://raw.githubusercontent.com/ingledarshan/upGrad_Darshan/main/ANSUR%20II%20MALE%20Public.csv"
      ],
      "execution_count": 1,
      "outputs": []
    },
    {
      "cell_type": "code",
      "metadata": {
        "id": "ItHWHoh6XZNO"
      },
      "source": [
        "from sklearn.model_selection import train_test_split\n",
        "from sklearn.preprocessing import StandardScaler\n",
        "\n",
        "import numpy as np\n",
        "import pandas as pd\n",
        "import matplotlib.pyplot as plt\n",
        "import seaborn as sns\n",
        "\n",
        "import warnings\n",
        "warnings.filterwarnings('ignore')"
      ],
      "execution_count": 2,
      "outputs": []
    },
    {
      "cell_type": "code",
      "metadata": {
        "id": "-WKv0-yTYPyS"
      },
      "source": [
        "ansur = pd.read_csv(\"https://raw.githubusercontent.com/ingledarshan/upGrad_Darshan/main/ANSUR%20II%20FEMALE%20Public.csv\")"
      ],
      "execution_count": 3,
      "outputs": []
    },
    {
      "cell_type": "code",
      "metadata": {
        "colab": {
          "base_uri": "https://localhost:8080/",
          "height": 420
        },
        "id": "7GU4I8lFYTdd",
        "outputId": "413ee865-1866-43a5-cb76-7fa2fd50d209"
      },
      "source": [
        "ansur.head()"
      ],
      "execution_count": 4,
      "outputs": [
        {
          "output_type": "execute_result",
          "data": {
            "text/html": [
              "<div>\n",
              "<style scoped>\n",
              "    .dataframe tbody tr th:only-of-type {\n",
              "        vertical-align: middle;\n",
              "    }\n",
              "\n",
              "    .dataframe tbody tr th {\n",
              "        vertical-align: top;\n",
              "    }\n",
              "\n",
              "    .dataframe thead th {\n",
              "        text-align: right;\n",
              "    }\n",
              "</style>\n",
              "<table border=\"1\" class=\"dataframe\">\n",
              "  <thead>\n",
              "    <tr style=\"text-align: right;\">\n",
              "      <th></th>\n",
              "      <th>SubjectId</th>\n",
              "      <th>abdominalextensiondepthsitting</th>\n",
              "      <th>acromialheight</th>\n",
              "      <th>acromionradialelength</th>\n",
              "      <th>anklecircumference</th>\n",
              "      <th>axillaheight</th>\n",
              "      <th>balloffootcircumference</th>\n",
              "      <th>balloffootlength</th>\n",
              "      <th>biacromialbreadth</th>\n",
              "      <th>bicepscircumferenceflexed</th>\n",
              "      <th>bicristalbreadth</th>\n",
              "      <th>bideltoidbreadth</th>\n",
              "      <th>bimalleolarbreadth</th>\n",
              "      <th>bitragionchinarc</th>\n",
              "      <th>bitragionsubmandibulararc</th>\n",
              "      <th>bizygomaticbreadth</th>\n",
              "      <th>buttockcircumference</th>\n",
              "      <th>buttockdepth</th>\n",
              "      <th>buttockheight</th>\n",
              "      <th>buttockkneelength</th>\n",
              "      <th>buttockpopliteallength</th>\n",
              "      <th>calfcircumference</th>\n",
              "      <th>cervicaleheight</th>\n",
              "      <th>chestbreadth</th>\n",
              "      <th>chestcircumference</th>\n",
              "      <th>chestdepth</th>\n",
              "      <th>chestheight</th>\n",
              "      <th>crotchheight</th>\n",
              "      <th>crotchlengthomphalion</th>\n",
              "      <th>crotchlengthposterioromphalion</th>\n",
              "      <th>earbreadth</th>\n",
              "      <th>earlength</th>\n",
              "      <th>earprotrusion</th>\n",
              "      <th>elbowrestheight</th>\n",
              "      <th>eyeheightsitting</th>\n",
              "      <th>footbreadthhorizontal</th>\n",
              "      <th>footlength</th>\n",
              "      <th>forearmcenterofgriplength</th>\n",
              "      <th>forearmcircumferenceflexed</th>\n",
              "      <th>forearmforearmbreadth</th>\n",
              "      <th>...</th>\n",
              "      <th>shouldercircumference</th>\n",
              "      <th>shoulderelbowlength</th>\n",
              "      <th>shoulderlength</th>\n",
              "      <th>sittingheight</th>\n",
              "      <th>sleevelengthspinewrist</th>\n",
              "      <th>sleeveoutseam</th>\n",
              "      <th>span</th>\n",
              "      <th>stature</th>\n",
              "      <th>suprasternaleheight</th>\n",
              "      <th>tenthribheight</th>\n",
              "      <th>thighcircumference</th>\n",
              "      <th>thighclearance</th>\n",
              "      <th>thumbtipreach</th>\n",
              "      <th>tibialheight</th>\n",
              "      <th>tragiontopofhead</th>\n",
              "      <th>trochanterionheight</th>\n",
              "      <th>verticaltrunkcircumferenceusa</th>\n",
              "      <th>waistbacklength</th>\n",
              "      <th>waistbreadth</th>\n",
              "      <th>waistcircumference</th>\n",
              "      <th>waistdepth</th>\n",
              "      <th>waistfrontlengthsitting</th>\n",
              "      <th>waistheightomphalion</th>\n",
              "      <th>weightkg</th>\n",
              "      <th>wristcircumference</th>\n",
              "      <th>wristheight</th>\n",
              "      <th>Gender</th>\n",
              "      <th>Date</th>\n",
              "      <th>Installation</th>\n",
              "      <th>Component</th>\n",
              "      <th>Branch</th>\n",
              "      <th>PrimaryMOS</th>\n",
              "      <th>SubjectsBirthLocation</th>\n",
              "      <th>SubjectNumericRace</th>\n",
              "      <th>Ethnicity</th>\n",
              "      <th>DODRace</th>\n",
              "      <th>Age</th>\n",
              "      <th>Heightin</th>\n",
              "      <th>Weightlbs</th>\n",
              "      <th>WritingPreference</th>\n",
              "    </tr>\n",
              "  </thead>\n",
              "  <tbody>\n",
              "    <tr>\n",
              "      <th>0</th>\n",
              "      <td>10037</td>\n",
              "      <td>231</td>\n",
              "      <td>1282</td>\n",
              "      <td>301</td>\n",
              "      <td>204</td>\n",
              "      <td>1180</td>\n",
              "      <td>222</td>\n",
              "      <td>177</td>\n",
              "      <td>373</td>\n",
              "      <td>315</td>\n",
              "      <td>263</td>\n",
              "      <td>466</td>\n",
              "      <td>65</td>\n",
              "      <td>338</td>\n",
              "      <td>301</td>\n",
              "      <td>141</td>\n",
              "      <td>1011</td>\n",
              "      <td>223</td>\n",
              "      <td>836</td>\n",
              "      <td>587</td>\n",
              "      <td>476</td>\n",
              "      <td>360</td>\n",
              "      <td>1336</td>\n",
              "      <td>274</td>\n",
              "      <td>922</td>\n",
              "      <td>245</td>\n",
              "      <td>1095</td>\n",
              "      <td>759</td>\n",
              "      <td>557</td>\n",
              "      <td>310</td>\n",
              "      <td>35</td>\n",
              "      <td>65</td>\n",
              "      <td>16</td>\n",
              "      <td>220</td>\n",
              "      <td>713</td>\n",
              "      <td>91</td>\n",
              "      <td>246</td>\n",
              "      <td>316</td>\n",
              "      <td>265</td>\n",
              "      <td>517</td>\n",
              "      <td>...</td>\n",
              "      <td>1062</td>\n",
              "      <td>327</td>\n",
              "      <td>148</td>\n",
              "      <td>803</td>\n",
              "      <td>809</td>\n",
              "      <td>513</td>\n",
              "      <td>1647</td>\n",
              "      <td>1560</td>\n",
              "      <td>1280</td>\n",
              "      <td>1013</td>\n",
              "      <td>622</td>\n",
              "      <td>174</td>\n",
              "      <td>736</td>\n",
              "      <td>430</td>\n",
              "      <td>110</td>\n",
              "      <td>844</td>\n",
              "      <td>1488</td>\n",
              "      <td>406</td>\n",
              "      <td>295</td>\n",
              "      <td>850</td>\n",
              "      <td>217</td>\n",
              "      <td>345</td>\n",
              "      <td>942</td>\n",
              "      <td>657</td>\n",
              "      <td>152</td>\n",
              "      <td>756</td>\n",
              "      <td>Female</td>\n",
              "      <td>5-Oct-10</td>\n",
              "      <td>Fort Hood</td>\n",
              "      <td>Regular Army</td>\n",
              "      <td>Combat Support</td>\n",
              "      <td>92Y</td>\n",
              "      <td>Germany</td>\n",
              "      <td>2</td>\n",
              "      <td>NaN</td>\n",
              "      <td>2</td>\n",
              "      <td>26</td>\n",
              "      <td>61</td>\n",
              "      <td>142</td>\n",
              "      <td>Right hand</td>\n",
              "    </tr>\n",
              "    <tr>\n",
              "      <th>1</th>\n",
              "      <td>10038</td>\n",
              "      <td>194</td>\n",
              "      <td>1379</td>\n",
              "      <td>320</td>\n",
              "      <td>207</td>\n",
              "      <td>1292</td>\n",
              "      <td>225</td>\n",
              "      <td>178</td>\n",
              "      <td>372</td>\n",
              "      <td>272</td>\n",
              "      <td>250</td>\n",
              "      <td>430</td>\n",
              "      <td>64</td>\n",
              "      <td>294</td>\n",
              "      <td>270</td>\n",
              "      <td>126</td>\n",
              "      <td>893</td>\n",
              "      <td>186</td>\n",
              "      <td>900</td>\n",
              "      <td>583</td>\n",
              "      <td>483</td>\n",
              "      <td>350</td>\n",
              "      <td>1440</td>\n",
              "      <td>261</td>\n",
              "      <td>839</td>\n",
              "      <td>206</td>\n",
              "      <td>1234</td>\n",
              "      <td>835</td>\n",
              "      <td>549</td>\n",
              "      <td>329</td>\n",
              "      <td>32</td>\n",
              "      <td>60</td>\n",
              "      <td>23</td>\n",
              "      <td>208</td>\n",
              "      <td>726</td>\n",
              "      <td>91</td>\n",
              "      <td>249</td>\n",
              "      <td>341</td>\n",
              "      <td>247</td>\n",
              "      <td>468</td>\n",
              "      <td>...</td>\n",
              "      <td>1014</td>\n",
              "      <td>346</td>\n",
              "      <td>142</td>\n",
              "      <td>835</td>\n",
              "      <td>810</td>\n",
              "      <td>575</td>\n",
              "      <td>1751</td>\n",
              "      <td>1665</td>\n",
              "      <td>1372</td>\n",
              "      <td>1107</td>\n",
              "      <td>524</td>\n",
              "      <td>152</td>\n",
              "      <td>771</td>\n",
              "      <td>475</td>\n",
              "      <td>125</td>\n",
              "      <td>901</td>\n",
              "      <td>1470</td>\n",
              "      <td>422</td>\n",
              "      <td>254</td>\n",
              "      <td>708</td>\n",
              "      <td>168</td>\n",
              "      <td>329</td>\n",
              "      <td>1032</td>\n",
              "      <td>534</td>\n",
              "      <td>155</td>\n",
              "      <td>815</td>\n",
              "      <td>Female</td>\n",
              "      <td>5-Oct-10</td>\n",
              "      <td>Fort Hood</td>\n",
              "      <td>Regular Army</td>\n",
              "      <td>Combat Service Support</td>\n",
              "      <td>25U</td>\n",
              "      <td>California</td>\n",
              "      <td>3</td>\n",
              "      <td>Mexican</td>\n",
              "      <td>3</td>\n",
              "      <td>21</td>\n",
              "      <td>64</td>\n",
              "      <td>120</td>\n",
              "      <td>Right hand</td>\n",
              "    </tr>\n",
              "    <tr>\n",
              "      <th>2</th>\n",
              "      <td>10042</td>\n",
              "      <td>183</td>\n",
              "      <td>1369</td>\n",
              "      <td>329</td>\n",
              "      <td>233</td>\n",
              "      <td>1271</td>\n",
              "      <td>237</td>\n",
              "      <td>196</td>\n",
              "      <td>397</td>\n",
              "      <td>300</td>\n",
              "      <td>276</td>\n",
              "      <td>450</td>\n",
              "      <td>69</td>\n",
              "      <td>309</td>\n",
              "      <td>270</td>\n",
              "      <td>128</td>\n",
              "      <td>987</td>\n",
              "      <td>204</td>\n",
              "      <td>861</td>\n",
              "      <td>583</td>\n",
              "      <td>466</td>\n",
              "      <td>384</td>\n",
              "      <td>1451</td>\n",
              "      <td>287</td>\n",
              "      <td>874</td>\n",
              "      <td>223</td>\n",
              "      <td>1226</td>\n",
              "      <td>821</td>\n",
              "      <td>643</td>\n",
              "      <td>374</td>\n",
              "      <td>36</td>\n",
              "      <td>65</td>\n",
              "      <td>26</td>\n",
              "      <td>204</td>\n",
              "      <td>790</td>\n",
              "      <td>100</td>\n",
              "      <td>265</td>\n",
              "      <td>343</td>\n",
              "      <td>262</td>\n",
              "      <td>488</td>\n",
              "      <td>...</td>\n",
              "      <td>1049</td>\n",
              "      <td>362</td>\n",
              "      <td>164</td>\n",
              "      <td>904</td>\n",
              "      <td>855</td>\n",
              "      <td>568</td>\n",
              "      <td>1779</td>\n",
              "      <td>1711</td>\n",
              "      <td>1383</td>\n",
              "      <td>1089</td>\n",
              "      <td>577</td>\n",
              "      <td>164</td>\n",
              "      <td>814</td>\n",
              "      <td>458</td>\n",
              "      <td>129</td>\n",
              "      <td>882</td>\n",
              "      <td>1542</td>\n",
              "      <td>419</td>\n",
              "      <td>269</td>\n",
              "      <td>727</td>\n",
              "      <td>159</td>\n",
              "      <td>367</td>\n",
              "      <td>1035</td>\n",
              "      <td>663</td>\n",
              "      <td>162</td>\n",
              "      <td>799</td>\n",
              "      <td>Female</td>\n",
              "      <td>5-Oct-10</td>\n",
              "      <td>Fort Hood</td>\n",
              "      <td>Regular Army</td>\n",
              "      <td>Combat Service Support</td>\n",
              "      <td>35D</td>\n",
              "      <td>Texas</td>\n",
              "      <td>1</td>\n",
              "      <td>NaN</td>\n",
              "      <td>1</td>\n",
              "      <td>23</td>\n",
              "      <td>68</td>\n",
              "      <td>147</td>\n",
              "      <td>Right hand</td>\n",
              "    </tr>\n",
              "    <tr>\n",
              "      <th>3</th>\n",
              "      <td>10043</td>\n",
              "      <td>261</td>\n",
              "      <td>1356</td>\n",
              "      <td>306</td>\n",
              "      <td>214</td>\n",
              "      <td>1250</td>\n",
              "      <td>240</td>\n",
              "      <td>188</td>\n",
              "      <td>384</td>\n",
              "      <td>364</td>\n",
              "      <td>276</td>\n",
              "      <td>484</td>\n",
              "      <td>68</td>\n",
              "      <td>340</td>\n",
              "      <td>294</td>\n",
              "      <td>144</td>\n",
              "      <td>1012</td>\n",
              "      <td>253</td>\n",
              "      <td>897</td>\n",
              "      <td>599</td>\n",
              "      <td>471</td>\n",
              "      <td>372</td>\n",
              "      <td>1430</td>\n",
              "      <td>269</td>\n",
              "      <td>1008</td>\n",
              "      <td>285</td>\n",
              "      <td>1170</td>\n",
              "      <td>804</td>\n",
              "      <td>640</td>\n",
              "      <td>351</td>\n",
              "      <td>38</td>\n",
              "      <td>62</td>\n",
              "      <td>22</td>\n",
              "      <td>244</td>\n",
              "      <td>775</td>\n",
              "      <td>97</td>\n",
              "      <td>265</td>\n",
              "      <td>331</td>\n",
              "      <td>309</td>\n",
              "      <td>529</td>\n",
              "      <td>...</td>\n",
              "      <td>1121</td>\n",
              "      <td>333</td>\n",
              "      <td>157</td>\n",
              "      <td>875</td>\n",
              "      <td>815</td>\n",
              "      <td>536</td>\n",
              "      <td>1708</td>\n",
              "      <td>1660</td>\n",
              "      <td>1358</td>\n",
              "      <td>1065</td>\n",
              "      <td>679</td>\n",
              "      <td>187</td>\n",
              "      <td>736</td>\n",
              "      <td>463</td>\n",
              "      <td>125</td>\n",
              "      <td>866</td>\n",
              "      <td>1627</td>\n",
              "      <td>451</td>\n",
              "      <td>302</td>\n",
              "      <td>923</td>\n",
              "      <td>235</td>\n",
              "      <td>371</td>\n",
              "      <td>999</td>\n",
              "      <td>782</td>\n",
              "      <td>173</td>\n",
              "      <td>818</td>\n",
              "      <td>Female</td>\n",
              "      <td>5-Oct-10</td>\n",
              "      <td>Fort Hood</td>\n",
              "      <td>Regular Army</td>\n",
              "      <td>Combat Service Support</td>\n",
              "      <td>25U</td>\n",
              "      <td>District of Columbia</td>\n",
              "      <td>8</td>\n",
              "      <td>Caribbean Islander</td>\n",
              "      <td>2</td>\n",
              "      <td>22</td>\n",
              "      <td>66</td>\n",
              "      <td>175</td>\n",
              "      <td>Right hand</td>\n",
              "    </tr>\n",
              "    <tr>\n",
              "      <th>4</th>\n",
              "      <td>10051</td>\n",
              "      <td>309</td>\n",
              "      <td>1303</td>\n",
              "      <td>308</td>\n",
              "      <td>214</td>\n",
              "      <td>1210</td>\n",
              "      <td>217</td>\n",
              "      <td>182</td>\n",
              "      <td>378</td>\n",
              "      <td>320</td>\n",
              "      <td>336</td>\n",
              "      <td>525</td>\n",
              "      <td>67</td>\n",
              "      <td>300</td>\n",
              "      <td>295</td>\n",
              "      <td>135</td>\n",
              "      <td>1281</td>\n",
              "      <td>284</td>\n",
              "      <td>811</td>\n",
              "      <td>607</td>\n",
              "      <td>467</td>\n",
              "      <td>433</td>\n",
              "      <td>1362</td>\n",
              "      <td>305</td>\n",
              "      <td>1089</td>\n",
              "      <td>290</td>\n",
              "      <td>1112</td>\n",
              "      <td>726</td>\n",
              "      <td>686</td>\n",
              "      <td>356</td>\n",
              "      <td>34</td>\n",
              "      <td>65</td>\n",
              "      <td>18</td>\n",
              "      <td>233</td>\n",
              "      <td>732</td>\n",
              "      <td>88</td>\n",
              "      <td>247</td>\n",
              "      <td>339</td>\n",
              "      <td>260</td>\n",
              "      <td>596</td>\n",
              "      <td>...</td>\n",
              "      <td>1151</td>\n",
              "      <td>329</td>\n",
              "      <td>156</td>\n",
              "      <td>824</td>\n",
              "      <td>810</td>\n",
              "      <td>559</td>\n",
              "      <td>1702</td>\n",
              "      <td>1572</td>\n",
              "      <td>1292</td>\n",
              "      <td>1030</td>\n",
              "      <td>766</td>\n",
              "      <td>197</td>\n",
              "      <td>766</td>\n",
              "      <td>429</td>\n",
              "      <td>116</td>\n",
              "      <td>800</td>\n",
              "      <td>1698</td>\n",
              "      <td>452</td>\n",
              "      <td>405</td>\n",
              "      <td>1163</td>\n",
              "      <td>300</td>\n",
              "      <td>380</td>\n",
              "      <td>911</td>\n",
              "      <td>886</td>\n",
              "      <td>152</td>\n",
              "      <td>762</td>\n",
              "      <td>Female</td>\n",
              "      <td>5-Oct-10</td>\n",
              "      <td>Fort Hood</td>\n",
              "      <td>Regular Army</td>\n",
              "      <td>Combat Arms</td>\n",
              "      <td>42A</td>\n",
              "      <td>Texas</td>\n",
              "      <td>1</td>\n",
              "      <td>NaN</td>\n",
              "      <td>1</td>\n",
              "      <td>45</td>\n",
              "      <td>63</td>\n",
              "      <td>195</td>\n",
              "      <td>Right hand</td>\n",
              "    </tr>\n",
              "  </tbody>\n",
              "</table>\n",
              "<p>5 rows × 108 columns</p>\n",
              "</div>"
            ],
            "text/plain": [
              "   SubjectId  abdominalextensiondepthsitting  ...  Weightlbs  WritingPreference\n",
              "0      10037                             231  ...        142         Right hand\n",
              "1      10038                             194  ...        120         Right hand\n",
              "2      10042                             183  ...        147         Right hand\n",
              "3      10043                             261  ...        175         Right hand\n",
              "4      10051                             309  ...        195         Right hand\n",
              "\n",
              "[5 rows x 108 columns]"
            ]
          },
          "metadata": {
            "tags": []
          },
          "execution_count": 4
        }
      ]
    },
    {
      "cell_type": "code",
      "metadata": {
        "colab": {
          "base_uri": "https://localhost:8080/"
        },
        "id": "S3hq0ecHYUKb",
        "outputId": "fea92aed-8961-48c4-a0e6-3c727a48a41f"
      },
      "source": [
        "ansur.shape"
      ],
      "execution_count": 5,
      "outputs": [
        {
          "output_type": "execute_result",
          "data": {
            "text/plain": [
              "(1986, 108)"
            ]
          },
          "metadata": {
            "tags": []
          },
          "execution_count": 5
        }
      ]
    },
    {
      "cell_type": "code",
      "metadata": {
        "colab": {
          "base_uri": "https://localhost:8080/"
        },
        "id": "h65_hZEnZMlD",
        "outputId": "145c8cba-a2cd-4028-d452-f44c8c0222da"
      },
      "source": [
        "list(set(ansur.columns) - set(ansur.describe().columns))"
      ],
      "execution_count": 6,
      "outputs": [
        {
          "output_type": "execute_result",
          "data": {
            "text/plain": [
              "['Branch',\n",
              " 'SubjectsBirthLocation',\n",
              " 'Date',\n",
              " 'Ethnicity',\n",
              " 'Installation',\n",
              " 'PrimaryMOS',\n",
              " 'WritingPreference',\n",
              " 'Gender',\n",
              " 'Component']"
            ]
          },
          "metadata": {
            "tags": []
          },
          "execution_count": 6
        }
      ]
    },
    {
      "cell_type": "code",
      "metadata": {
        "id": "L3JhWjF2ZPz8"
      },
      "source": [
        "ansur.drop(['Ethnicity',\n",
        " 'Gender',\n",
        " 'WritingPreference',\n",
        " 'Branch',\n",
        " 'SubjectsBirthLocation',\n",
        " 'Component',\n",
        " 'PrimaryMOS',\n",
        " 'Installation',\n",
        " 'Date'], axis=1, inplace=True)"
      ],
      "execution_count": 7,
      "outputs": []
    },
    {
      "cell_type": "code",
      "metadata": {
        "colab": {
          "base_uri": "https://localhost:8080/"
        },
        "id": "Otl69ZR5Zaoi",
        "outputId": "2e9d1467-b19c-4c47-9ce5-a596ef00a0e2"
      },
      "source": [
        "list(set(ansur.columns) - set(ansur.describe().columns))"
      ],
      "execution_count": 8,
      "outputs": [
        {
          "output_type": "execute_result",
          "data": {
            "text/plain": [
              "[]"
            ]
          },
          "metadata": {
            "tags": []
          },
          "execution_count": 8
        }
      ]
    },
    {
      "cell_type": "code",
      "metadata": {
        "colab": {
          "base_uri": "https://localhost:8080/"
        },
        "id": "F3DcY32sn553",
        "outputId": "fe857dbd-8108-43ee-a0ac-8d3cd94d7a5e"
      },
      "source": [
        "print(ansur.head(2))"
      ],
      "execution_count": 9,
      "outputs": [
        {
          "output_type": "stream",
          "text": [
            "   SubjectId  abdominalextensiondepthsitting  ...  Heightin  Weightlbs\n",
            "0      10037                             231  ...        61        142\n",
            "1      10038                             194  ...        64        120\n",
            "\n",
            "[2 rows x 99 columns]\n"
          ],
          "name": "stdout"
        }
      ]
    },
    {
      "cell_type": "code",
      "metadata": {
        "id": "cm04_99RYjjG"
      },
      "source": [
        "# Feature, target arrays\n",
        "X, y = ansur.iloc[:, :-1], ansur.iloc[:, -1]"
      ],
      "execution_count": 10,
      "outputs": []
    },
    {
      "cell_type": "code",
      "metadata": {
        "id": "uw72das9Ymqr"
      },
      "source": [
        "# Train/test set generation\n",
        "X_train, X_test, y_train, y_test = train_test_split(\n",
        "    X, y, test_size=0.3, random_state=1121218\n",
        ")"
      ],
      "execution_count": 11,
      "outputs": []
    },
    {
      "cell_type": "code",
      "metadata": {
        "id": "InQzcoMtYuDD"
      },
      "source": [
        "# Scale train and test sets with StandardScaler\n",
        "X_train_std = StandardScaler().fit_transform(X_train)\n",
        "X_test_std = StandardScaler().fit_transform(X_test)"
      ],
      "execution_count": 12,
      "outputs": []
    },
    {
      "cell_type": "code",
      "metadata": {
        "colab": {
          "base_uri": "https://localhost:8080/"
        },
        "id": "VmzTyvumomyf",
        "outputId": "f43a697a-9071-414d-d721-28ffcc86f983"
      },
      "source": [
        "y_train.shape"
      ],
      "execution_count": 13,
      "outputs": [
        {
          "output_type": "execute_result",
          "data": {
            "text/plain": [
              "(1390,)"
            ]
          },
          "metadata": {
            "tags": []
          },
          "execution_count": 13
        }
      ]
    },
    {
      "cell_type": "code",
      "metadata": {
        "id": "aGhwcIRFYv2S"
      },
      "source": [
        "# Fix the dimensions of the target array\n",
        "y_train = y_train.values.reshape(-1, 1)\n",
        "y_test = y_test.values.reshape(-1, 1)"
      ],
      "execution_count": 14,
      "outputs": []
    },
    {
      "cell_type": "code",
      "metadata": {
        "colab": {
          "base_uri": "https://localhost:8080/"
        },
        "id": "Srw8DRwBorQ8",
        "outputId": "350d0e44-033d-4c1c-8149-e5b5d187629a"
      },
      "source": [
        "y_train.shape"
      ],
      "execution_count": 15,
      "outputs": [
        {
          "output_type": "execute_result",
          "data": {
            "text/plain": [
              "(1390, 1)"
            ]
          },
          "metadata": {
            "tags": []
          },
          "execution_count": 15
        }
      ]
    },
    {
      "cell_type": "code",
      "metadata": {
        "colab": {
          "base_uri": "https://localhost:8080/"
        },
        "id": "87UVqqoAZjQW",
        "outputId": "3092ace5-f845-42bb-cab0-b5c724c231fb"
      },
      "source": [
        "# Init, fit, test Linear Regressor\n",
        "from sklearn.linear_model import  LinearRegression\n",
        "lr = LinearRegression()\n",
        "lr.fit(X_train_std, y_train)\n",
        "lr.score(X_test_std, y_test)"
      ],
      "execution_count": 16,
      "outputs": [
        {
          "output_type": "execute_result",
          "data": {
            "text/plain": [
              "0.9277179453047179"
            ]
          },
          "metadata": {
            "tags": []
          },
          "execution_count": 16
        }
      ]
    },
    {
      "cell_type": "markdown",
      "metadata": {
        "id": "zGQ9tYMFaCrN"
      },
      "source": [
        "We achieved an excellent R-squared of 0.948. We could do this using all 98 features, which is much more than we might need. "
      ]
    },
    {
      "cell_type": "code",
      "metadata": {
        "colab": {
          "base_uri": "https://localhost:8080/"
        },
        "id": "dkXnr8ZCZ1pb",
        "outputId": "53ba5e28-191d-40a4-9436-ff3bc9fc3a31"
      },
      "source": [
        "len(X.columns)"
      ],
      "execution_count": 17,
      "outputs": [
        {
          "output_type": "execute_result",
          "data": {
            "text/plain": [
              "98"
            ]
          },
          "metadata": {
            "tags": []
          },
          "execution_count": 17
        }
      ]
    },
    {
      "cell_type": "markdown",
      "metadata": {
        "id": "EipnEeehaayU"
      },
      "source": [
        "# Sklearn Recursive Feature Elimination Class\n",
        "\n",
        "RFE is a transformer estimator, which means it follows the familiar fit/transform pattern of Sklearn. It is a popular algorithm due to its easy configurable nature and robust performance. As the name suggests, it removes features one at a time based on the weights given by a model of our choice in each iteration.\n",
        "\n",
        "https://www.linkedin.com/pulse/what-recursive-feature-elimination-amit-mittal/\n"
      ]
    },
    {
      "cell_type": "code",
      "metadata": {
        "colab": {
          "base_uri": "https://localhost:8080/"
        },
        "id": "FvhQ2tlMZ7SZ",
        "outputId": "dbf02b65-bffe-4282-c756-dee3ed938e89"
      },
      "source": [
        "from sklearn.feature_selection import RFE\n",
        "\n",
        "# Init the transformer\n",
        "rfe = RFE(estimator=LinearRegression(), n_features_to_select=10)\n",
        "\n",
        "# Fit to the training data\n",
        "rfe.fit(X_train_std, y_train)"
      ],
      "execution_count": 18,
      "outputs": [
        {
          "output_type": "execute_result",
          "data": {
            "text/plain": [
              "RFE(estimator=LinearRegression(copy_X=True, fit_intercept=True, n_jobs=None,\n",
              "                               normalize=False),\n",
              "    n_features_to_select=10, step=1, verbose=0)"
            ]
          },
          "metadata": {
            "tags": []
          },
          "execution_count": 18
        }
      ]
    },
    {
      "cell_type": "markdown",
      "metadata": {
        "id": "gnOJ2U13al11"
      },
      "source": [
        "After fitting the estimator, it has a .support_ attribute that gives a boolean mask with False values for discarded features. We can use it to subset our data:"
      ]
    },
    {
      "cell_type": "code",
      "metadata": {
        "colab": {
          "base_uri": "https://localhost:8080/",
          "height": 437
        },
        "id": "h6OUxJT6aJPK",
        "outputId": "624c80b7-59d9-4746-e09e-2c731b94dd4d"
      },
      "source": [
        "X_train.loc[:, rfe.support_]"
      ],
      "execution_count": 19,
      "outputs": [
        {
          "output_type": "execute_result",
          "data": {
            "text/html": [
              "<div>\n",
              "<style scoped>\n",
              "    .dataframe tbody tr th:only-of-type {\n",
              "        vertical-align: middle;\n",
              "    }\n",
              "\n",
              "    .dataframe tbody tr th {\n",
              "        vertical-align: top;\n",
              "    }\n",
              "\n",
              "    .dataframe thead th {\n",
              "        text-align: right;\n",
              "    }\n",
              "</style>\n",
              "<table border=\"1\" class=\"dataframe\">\n",
              "  <thead>\n",
              "    <tr style=\"text-align: right;\">\n",
              "      <th></th>\n",
              "      <th>buttockkneelength</th>\n",
              "      <th>chestheight</th>\n",
              "      <th>eyeheightsitting</th>\n",
              "      <th>kneeheightmidpatella</th>\n",
              "      <th>kneeheightsitting</th>\n",
              "      <th>sittingheight</th>\n",
              "      <th>suprasternaleheight</th>\n",
              "      <th>tibialheight</th>\n",
              "      <th>waistheightomphalion</th>\n",
              "      <th>weightkg</th>\n",
              "    </tr>\n",
              "  </thead>\n",
              "  <tbody>\n",
              "    <tr>\n",
              "      <th>1473</th>\n",
              "      <td>596</td>\n",
              "      <td>1065</td>\n",
              "      <td>725</td>\n",
              "      <td>420</td>\n",
              "      <td>485</td>\n",
              "      <td>828</td>\n",
              "      <td>1256</td>\n",
              "      <td>401</td>\n",
              "      <td>902</td>\n",
              "      <td>846</td>\n",
              "    </tr>\n",
              "    <tr>\n",
              "      <th>1754</th>\n",
              "      <td>579</td>\n",
              "      <td>1171</td>\n",
              "      <td>768</td>\n",
              "      <td>447</td>\n",
              "      <td>510</td>\n",
              "      <td>880</td>\n",
              "      <td>1335</td>\n",
              "      <td>435</td>\n",
              "      <td>1007</td>\n",
              "      <td>644</td>\n",
              "    </tr>\n",
              "    <tr>\n",
              "      <th>704</th>\n",
              "      <td>489</td>\n",
              "      <td>1054</td>\n",
              "      <td>722</td>\n",
              "      <td>387</td>\n",
              "      <td>440</td>\n",
              "      <td>841</td>\n",
              "      <td>1201</td>\n",
              "      <td>380</td>\n",
              "      <td>861</td>\n",
              "      <td>488</td>\n",
              "    </tr>\n",
              "    <tr>\n",
              "      <th>82</th>\n",
              "      <td>633</td>\n",
              "      <td>1159</td>\n",
              "      <td>763</td>\n",
              "      <td>450</td>\n",
              "      <td>517</td>\n",
              "      <td>872</td>\n",
              "      <td>1360</td>\n",
              "      <td>444</td>\n",
              "      <td>1008</td>\n",
              "      <td>786</td>\n",
              "    </tr>\n",
              "    <tr>\n",
              "      <th>1387</th>\n",
              "      <td>583</td>\n",
              "      <td>1175</td>\n",
              "      <td>739</td>\n",
              "      <td>460</td>\n",
              "      <td>511</td>\n",
              "      <td>849</td>\n",
              "      <td>1300</td>\n",
              "      <td>438</td>\n",
              "      <td>959</td>\n",
              "      <td>695</td>\n",
              "    </tr>\n",
              "    <tr>\n",
              "      <th>...</th>\n",
              "      <td>...</td>\n",
              "      <td>...</td>\n",
              "      <td>...</td>\n",
              "      <td>...</td>\n",
              "      <td>...</td>\n",
              "      <td>...</td>\n",
              "      <td>...</td>\n",
              "      <td>...</td>\n",
              "      <td>...</td>\n",
              "      <td>...</td>\n",
              "    </tr>\n",
              "    <tr>\n",
              "      <th>619</th>\n",
              "      <td>552</td>\n",
              "      <td>1108</td>\n",
              "      <td>781</td>\n",
              "      <td>418</td>\n",
              "      <td>469</td>\n",
              "      <td>888</td>\n",
              "      <td>1270</td>\n",
              "      <td>402</td>\n",
              "      <td>913</td>\n",
              "      <td>564</td>\n",
              "    </tr>\n",
              "    <tr>\n",
              "      <th>588</th>\n",
              "      <td>591</td>\n",
              "      <td>1195</td>\n",
              "      <td>769</td>\n",
              "      <td>460</td>\n",
              "      <td>519</td>\n",
              "      <td>880</td>\n",
              "      <td>1350</td>\n",
              "      <td>448</td>\n",
              "      <td>984</td>\n",
              "      <td>619</td>\n",
              "    </tr>\n",
              "    <tr>\n",
              "      <th>1419</th>\n",
              "      <td>599</td>\n",
              "      <td>1107</td>\n",
              "      <td>712</td>\n",
              "      <td>427</td>\n",
              "      <td>486</td>\n",
              "      <td>803</td>\n",
              "      <td>1300</td>\n",
              "      <td>417</td>\n",
              "      <td>929</td>\n",
              "      <td>717</td>\n",
              "    </tr>\n",
              "    <tr>\n",
              "      <th>1442</th>\n",
              "      <td>645</td>\n",
              "      <td>1174</td>\n",
              "      <td>790</td>\n",
              "      <td>469</td>\n",
              "      <td>540</td>\n",
              "      <td>910</td>\n",
              "      <td>1378</td>\n",
              "      <td>457</td>\n",
              "      <td>980</td>\n",
              "      <td>962</td>\n",
              "    </tr>\n",
              "    <tr>\n",
              "      <th>739</th>\n",
              "      <td>568</td>\n",
              "      <td>1164</td>\n",
              "      <td>751</td>\n",
              "      <td>451</td>\n",
              "      <td>501</td>\n",
              "      <td>862</td>\n",
              "      <td>1338</td>\n",
              "      <td>441</td>\n",
              "      <td>953</td>\n",
              "      <td>621</td>\n",
              "    </tr>\n",
              "  </tbody>\n",
              "</table>\n",
              "<p>1390 rows × 10 columns</p>\n",
              "</div>"
            ],
            "text/plain": [
              "      buttockkneelength  chestheight  ...  waistheightomphalion  weightkg\n",
              "1473                596         1065  ...                   902       846\n",
              "1754                579         1171  ...                  1007       644\n",
              "704                 489         1054  ...                   861       488\n",
              "82                  633         1159  ...                  1008       786\n",
              "1387                583         1175  ...                   959       695\n",
              "...                 ...          ...  ...                   ...       ...\n",
              "619                 552         1108  ...                   913       564\n",
              "588                 591         1195  ...                   984       619\n",
              "1419                599         1107  ...                   929       717\n",
              "1442                645         1174  ...                   980       962\n",
              "739                 568         1164  ...                   953       621\n",
              "\n",
              "[1390 rows x 10 columns]"
            ]
          },
          "metadata": {
            "tags": []
          },
          "execution_count": 19
        }
      ]
    },
    {
      "cell_type": "markdown",
      "metadata": {
        "id": "zSczhxh4aqM_"
      },
      "source": [
        "Or you can directly call .transform() to get a new numpy array with the relevant features. Let's use this smaller subset to test Linear Regression once again:"
      ]
    },
    {
      "cell_type": "code",
      "metadata": {
        "colab": {
          "base_uri": "https://localhost:8080/"
        },
        "id": "Nw_l6Bcnanyh",
        "outputId": "f1d15393-ae90-47e9-91d9-6da08bd25df8"
      },
      "source": [
        "# Init, fit, score\n",
        "lr = LinearRegression()\n",
        "_ = lr.fit(rfe.transform(X_train_std), y_train)\n",
        "lr.score(rfe.transform(X_test_std), y_test)"
      ],
      "execution_count": 20,
      "outputs": [
        {
          "output_type": "execute_result",
          "data": {
            "text/plain": [
              "0.9304381771829048"
            ]
          },
          "metadata": {
            "tags": []
          },
          "execution_count": 20
        }
      ]
    },
    {
      "cell_type": "markdown",
      "metadata": {
        "id": "KMRmji_Sa05j"
      },
      "source": [
        "Even after dropping almost 90 features, we got the same score which is very impressive!"
      ]
    },
    {
      "cell_type": "markdown",
      "metadata": {
        "id": "yRKulhGTa6Ag"
      },
      "source": [
        "RFE Performance Considerations\n",
        "\n",
        "Since RFE trains the given model on the full dataset every time it drops a feature, the computation time will be heavy for large datasets with many features as ours. To control this behavior, RFE provides step parameter that lets us drop an arbitrary number of features in each iteration instead of one:\n"
      ]
    },
    {
      "cell_type": "code",
      "metadata": {
        "colab": {
          "base_uri": "https://localhost:8080/"
        },
        "id": "FhQJ8IMFayaW",
        "outputId": "608119d8-5873-457d-994b-fc98edaaf833"
      },
      "source": [
        "# Init the transformer\n",
        "rfe = RFE(estimator=LinearRegression(), \n",
        "          n_features_to_select=10, step=10)\n",
        "_ = rfe.fit(X_train_std, y_train)\n",
        "\n",
        "print(X_train.columns[rfe.support_])"
      ],
      "execution_count": 21,
      "outputs": [
        {
          "output_type": "stream",
          "text": [
            "Index(['axillaheight', 'buttockkneelength', 'cervicaleheight', 'crotchheight',\n",
            "       'eyeheightsitting', 'sittingheight', 'suprasternaleheight',\n",
            "       'tibialheight', 'waistheightomphalion', 'weightkg'],\n",
            "      dtype='object')\n"
          ],
          "name": "stdout"
        }
      ]
    },
    {
      "cell_type": "markdown",
      "metadata": {
        "id": "3vDMM-RRbJml"
      },
      "source": [
        "Choosing the number of features to keep automatically\n",
        "\n",
        "The most important hyperparameters of RFE are estimator and n_features_to_select. In the last example, we arbitrarily chose 10 features and hoped for the best. However, as RFE can be wrapped around any model, we have to choose the number of relevant features based on their performance.\n",
        "\n",
        "To achieve this, Sklearn provides a similar RFECV class which implements Recursive Feature Elimination with cross-validation and automatically finds the optimal number of features to keep. \n",
        "\n",
        "Below is an example that uses RFECV around a simple Linear Regression. We will be choosing Linear regression because we can guess there will be a linear correlation between body measurements. Besides, combined with cross-validation, Random Forest Regressor will become more computationally expensive:"
      ]
    },
    {
      "cell_type": "code",
      "metadata": {
        "id": "JWnQb05MbM_Z"
      },
      "source": [
        "from sklearn.feature_selection import RFECV\n",
        "from sklearn.linear_model import LinearRegression\n",
        "\n",
        "# Init, fit\n",
        "rfecv = RFECV(\n",
        "    estimator=LinearRegression(),\n",
        "    min_features_to_select=5,\n",
        "    step=5,\n",
        "    n_jobs=-1,\n",
        "    scoring=\"r2\",\n",
        "    cv=5,\n",
        ")\n",
        "\n",
        "_ = rfecv.fit(X_train_std, y_train)"
      ],
      "execution_count": 22,
      "outputs": []
    },
    {
      "cell_type": "markdown",
      "metadata": {
        "id": "C8c32eqgbcan"
      },
      "source": [
        "I provided the default values to cv and scoring parameters. A new hyperparameter is min_features_to_select - you can probably guess what it does from the name. Let's see how many features the estimator computed to keep:\n"
      ]
    },
    {
      "cell_type": "code",
      "metadata": {
        "colab": {
          "base_uri": "https://localhost:8080/"
        },
        "id": "bFPRnGKqbaME",
        "outputId": "6eeb7bca-a938-4b1f-a4ee-42ba6ea1fb54"
      },
      "source": [
        "X_train.columns[rfecv.support_]"
      ],
      "execution_count": 24,
      "outputs": [
        {
          "output_type": "execute_result",
          "data": {
            "text/plain": [
              "Index(['axillaheight', 'buttockkneelength', 'cervicaleheight', 'chestheight',\n",
              "       'crotchheight', 'eyeheightsitting', 'sittingheight',\n",
              "       'suprasternaleheight', 'tibialheight', 'verticaltrunkcircumferenceusa',\n",
              "       'waistheightomphalion', 'weightkg', 'wristheight'],\n",
              "      dtype='object')"
            ]
          },
          "metadata": {
            "tags": []
          },
          "execution_count": 24
        }
      ]
    },
    {
      "cell_type": "code",
      "metadata": {
        "colab": {
          "base_uri": "https://localhost:8080/"
        },
        "id": "cgtsWZvbbqnm",
        "outputId": "41189681-7bdb-4740-d613-55a4309ebb74"
      },
      "source": [
        "len(X_train.columns)"
      ],
      "execution_count": 26,
      "outputs": [
        {
          "output_type": "execute_result",
          "data": {
            "text/plain": [
              "98"
            ]
          },
          "metadata": {
            "tags": []
          },
          "execution_count": 26
        }
      ]
    },
    {
      "cell_type": "code",
      "metadata": {
        "colab": {
          "base_uri": "https://localhost:8080/"
        },
        "id": "LNm6TWQ7bmOO",
        "outputId": "31d1f864-abdd-44e0-fd86-189450bfd3bb"
      },
      "source": [
        "len(X_train.columns[rfecv.support_])"
      ],
      "execution_count": 27,
      "outputs": [
        {
          "output_type": "execute_result",
          "data": {
            "text/plain": [
              "13"
            ]
          },
          "metadata": {
            "tags": []
          },
          "execution_count": 27
        }
      ]
    },
    {
      "cell_type": "markdown",
      "metadata": {
        "id": "wwS8JVcublUX"
      },
      "source": [
        "RFECV tells us to keep only 13 out of 98. Let's train the model only on those 5 and look at its performance:"
      ]
    },
    {
      "cell_type": "code",
      "metadata": {
        "colab": {
          "base_uri": "https://localhost:8080/"
        },
        "id": "EfapdefebhbE",
        "outputId": "9f248293-c731-4ec8-dc57-d1e97b93a5b1"
      },
      "source": [
        "lr = LinearRegression()\n",
        "_ = lr.fit(X_train_std, y_train)\n",
        "\n",
        "print(\"Trainign R-sqaured:\", lr.score(X_train_std, y_train))\n",
        "print(\"Testing R-squared:\",lr.score(X_test_std, y_test))"
      ],
      "execution_count": 28,
      "outputs": [
        {
          "output_type": "stream",
          "text": [
            "Trainign R-sqaured: 0.9531432571534393\n",
            "Testing R-squared: 0.9277179453047179\n"
          ],
          "name": "stdout"
        }
      ]
    },
    {
      "cell_type": "markdown",
      "metadata": {
        "id": "K5MBrX4bb1GI"
      },
      "source": [
        "Even after dropping 93 features, we still got an impressive score of 0.956."
      ]
    },
    {
      "cell_type": "markdown",
      "metadata": {
        "id": "rdDAE1JFhcyL"
      },
      "source": [
        "# Variance Inflation Factor\n",
        "\n",
        "https://online.stat.psu.edu/stat462/node/180/\n",
        "\n",
        "https://statisticsbyjim.com/regression/variance-inflation-factors/\n",
        "\n",
        "Dataset Link:\n",
        "\n",
        "https://raw.githubusercontent.com/ingledarshan/upGrad_Darshan/main/BMI.csv"
      ]
    },
    {
      "cell_type": "markdown",
      "metadata": {
        "id": "0HjbAE7kiQX5"
      },
      "source": [
        "# Detecting Multicollinearity with VIF – Python\n",
        "\n",
        "Multicollinearity occurs when there are two or more independent variables in a multiple regression model, which have a high correlation among themselves. When some features are highly correlated, we might have difficulty in distinguishing between their individual effects on the dependent variable. Multicollinearity can be detected using various techniques, one such technique being the Variance Inflation Factor(VIF).\n",
        "\n",
        "In VIF method, we pick each feature and regress it against all of the other features. For each regression, the factor is calculated as :\n",
        "\n"
      ]
    },
    {
      "cell_type": "markdown",
      "metadata": {
        "id": "4pc64wFiiafI"
      },
      "source": [
        "![VIF_variance_inflation_factor.gif](data:image/gif;base64,R0lGODdhgQHIALMAAAAAAIAAAACAAICAAAAAgIAAgACAgICAgMDAwP8AAAD/AP//AAAA//8A/wD//////ywAAAAAgQHIAAME//DJSau9OOvNu/9gKI5kaZ5oqq5s675wLM90bd94ru987//AoHBILBqPyKRyyWw6n9CodEqtWq/YrHbL7Xq/4LB4TC6bz+i0es1uu9/wuHxOr9vv+Lx+z+/7/4CBgoOEhYaHWwCIi4wjAI+NkZIYj5WTl5KVmpich5qfnaGBn6Sipnykpaerfaqsr3iusLNzsrS3bra4u2m6vL9kvsDDX8LEx1rGyMtWoMzPyZvQ083S1NdRztjbTdrc30je4OND4uTnPubo6znq7O807vDzL/L09yr2+Psl+vz/IPwBHLhBIMGDFgwiXPhAIcODDh8OjCjxH8WK+y5ivKdx47yOHv/fgQy5biRJcspO8kupEh/LlvRewoQnc2bJVH5S6bREaac1nzorAB1KdBtRk2KO8rxwdIJSSD2fKrWJZmcInBqsdpDalGrVmk79BfUwlixYr1jOShBYlkPbrUjROlHbcGlBsFiv2pU7hu7erHjp1lXEt4zav4CtmdWIuLCXs40zQAZJ2HHfiFADYu6Y2XKYwJU/TFas1/Nl0olFjI4M13RSg6wlb0btuhbtniRWd65t+3bC3aJnA5fN28zL2LJ9R0W+NnTx18qbO9cc/Xf1us+Ni51OnTkF2NyzP9bnnanw4dbFB7NX3vz179vRq0/EPnzw92FZC87N9en85fK1557/gP3JV0+BXf0nlDsCWkcggjggmKCC+aHXoIMGDgicVjdIWBSFFVpoX3cZYjjiYCeCSIUvFy6In3TMtaiiErrICN+LKJaI3Yxd2GLjjQ9epyOPUPg4pFvnpbjjGx426eSTUEbZHwyy/BiikkAOeSSR3Whj5ZV6vYcll3N5OSZcOO5HZhVmnnlXmnGt+YQqX4JJops6SKkmWqXUaed9flKpJ46W9bklmkEGeuCghxb6Fgq64SnnFY9Cet6kvewJ4JmapoepEXmtEGkLhH4aT5xZctopkKYWgeqVqr66ZKtCyJrjlqHSekKl7ZSKZE286hpmrnkqCiOxLnIo7LDKFitp/3L+wQrUspphmE6jWfhqmn3aGtKtYwEa2wq2roUr7h7nevYtIemqS64n7/637iDtghtvIfVWY0q+d/ArxbxMFMjCvfgS3KOtoEpo6bPwGhzNqmUK3A/DDcvhU6YMCuawIABXc/FX9ZW68SiZjcwmxBHHhixgt/Bk8skIJ5HSyri1DMnLHvtbTnzl4QxIzCsCfQRLNH9H7a861yok0RTLiXKX3s18os/udgx1jMoYmLRXTy9xnDFTHd01jWLKEy21Y8tc9m1noy00EV+/PWnaQ6+9NZd0J4y13HPzDQTTfjsd+LXRFX20I4P3ELLVhx/b9JwSNz5w4jtELvnkjIeDGv/ltOa981+ct+p5EBnf3TlnjI5cOtWX75e66myHjqnrr2NuLuuN0566qMrJ3nfmrvbu+5qj/7A47mIPLwPPj1+uYfNqI1e8sNPzwDz0zv9ZzNLA5668oFF/P2P1zmopvorkR6gQeNgL3v3fL8adfWKm1+CQ/PNvun386f9e//Kjyt/EzpcPwyXrfafrXwymtRgFKkgqQWvbpggowPVQsIIHax8G+4W8Deaigx5kw/9CeBkSXmKEJgQDClM4HhZGYoUupI8GY9gGGNKQUiC8IXR06C1L5JCHMrQhEIuEwCEa8YhITKISl8jEJjrxiVCMohSnSMUqWvGKWMyiFrfIxS4FelENEfAAOw==)"
      ]
    },
    {
      "cell_type": "markdown",
      "metadata": {
        "id": "5xr4scOcidPB"
      },
      "source": [
        "Where, R-squared is the coefficient of determination in linear regression. Its value lies between 0 and 1.\n",
        "\n",
        "As we see from the formula, greater the value of R-squared, greater is the VIF. Hence, greater VIF denotes greater correlation. This is in agreement with the fact that a higher R-squared value denotes a stronger collinearity. Generally, a VIF above 5 indicates a high multicollinearity. "
      ]
    },
    {
      "cell_type": "markdown",
      "metadata": {
        "id": "Gsz-rnytijba"
      },
      "source": [
        "# Implementing VIF using statsmodels:\n",
        "\n",
        "statsmodels provides a function named variance_inflation_factor() for calculating VIF.\n",
        "\n",
        "Syntax : \n",
        "\n",
        "statsmodels.stats.outliers_influence.variance_inflation_factor(exog, exog_idx)\n",
        "\n",
        "Parameters :\n",
        "\n",
        "exog : an array containing features on which linear regression is performed.\n",
        "exog_idx : index of the additional feature whose influence on the other features is to be measured."
      ]
    },
    {
      "cell_type": "markdown",
      "metadata": {
        "id": "VzaYrwUjit0a"
      },
      "source": [
        "The dataset used in the example below, contains the height, weight, gender and Body Mass Index for 500 persons. Here the dependent variable is Index. "
      ]
    },
    {
      "cell_type": "code",
      "metadata": {
        "id": "L2TUJz2hbyph"
      },
      "source": [
        "import pandas as pd \n",
        "  \n",
        "# the dataset\n",
        "data = pd.read_csv('https://raw.githubusercontent.com/ingledarshan/upGrad_Darshan/main/BMI.csv')"
      ],
      "execution_count": 29,
      "outputs": []
    },
    {
      "cell_type": "code",
      "metadata": {
        "colab": {
          "base_uri": "https://localhost:8080/"
        },
        "id": "SMoXDStBi2nU",
        "outputId": "13c6871d-26df-4607-cf7b-26d5be6d7f31"
      },
      "source": [
        "# printing first few rows\n",
        "print(data.head())"
      ],
      "execution_count": 30,
      "outputs": [
        {
          "output_type": "stream",
          "text": [
            "   Gender  Height  Weight  Index\n",
            "0    Male     174      96      4\n",
            "1    Male     189      87      2\n",
            "2  Female     185     110      4\n",
            "3  Female     195     104      3\n",
            "4    Male     149      61      3\n"
          ],
          "name": "stdout"
        }
      ]
    },
    {
      "cell_type": "markdown",
      "metadata": {
        "id": "Y62jhDQmi6YK"
      },
      "source": [
        "# Approach :\n",
        "\n",
        "Each of the feature indices are passed to variance_inflation_factor() to find the corresponding VIF.\n",
        "\n",
        "These values are stored in the form of a Pandas DataFrame."
      ]
    },
    {
      "cell_type": "code",
      "metadata": {
        "colab": {
          "base_uri": "https://localhost:8080/",
          "height": 203
        },
        "id": "6l6dVgV2i4WC",
        "outputId": "1d296e1d-0ea1-4658-a332-4e00ac0c69db"
      },
      "source": [
        "from statsmodels.stats.outliers_influence import variance_inflation_factor\n",
        "  \n",
        "# creating dummies for gender\n",
        "data['Gender'] = data['Gender'].map({'Male':0, 'Female':1})\n",
        "data.head()"
      ],
      "execution_count": 31,
      "outputs": [
        {
          "output_type": "execute_result",
          "data": {
            "text/html": [
              "<div>\n",
              "<style scoped>\n",
              "    .dataframe tbody tr th:only-of-type {\n",
              "        vertical-align: middle;\n",
              "    }\n",
              "\n",
              "    .dataframe tbody tr th {\n",
              "        vertical-align: top;\n",
              "    }\n",
              "\n",
              "    .dataframe thead th {\n",
              "        text-align: right;\n",
              "    }\n",
              "</style>\n",
              "<table border=\"1\" class=\"dataframe\">\n",
              "  <thead>\n",
              "    <tr style=\"text-align: right;\">\n",
              "      <th></th>\n",
              "      <th>Gender</th>\n",
              "      <th>Height</th>\n",
              "      <th>Weight</th>\n",
              "      <th>Index</th>\n",
              "    </tr>\n",
              "  </thead>\n",
              "  <tbody>\n",
              "    <tr>\n",
              "      <th>0</th>\n",
              "      <td>0</td>\n",
              "      <td>174</td>\n",
              "      <td>96</td>\n",
              "      <td>4</td>\n",
              "    </tr>\n",
              "    <tr>\n",
              "      <th>1</th>\n",
              "      <td>0</td>\n",
              "      <td>189</td>\n",
              "      <td>87</td>\n",
              "      <td>2</td>\n",
              "    </tr>\n",
              "    <tr>\n",
              "      <th>2</th>\n",
              "      <td>1</td>\n",
              "      <td>185</td>\n",
              "      <td>110</td>\n",
              "      <td>4</td>\n",
              "    </tr>\n",
              "    <tr>\n",
              "      <th>3</th>\n",
              "      <td>1</td>\n",
              "      <td>195</td>\n",
              "      <td>104</td>\n",
              "      <td>3</td>\n",
              "    </tr>\n",
              "    <tr>\n",
              "      <th>4</th>\n",
              "      <td>0</td>\n",
              "      <td>149</td>\n",
              "      <td>61</td>\n",
              "      <td>3</td>\n",
              "    </tr>\n",
              "  </tbody>\n",
              "</table>\n",
              "</div>"
            ],
            "text/plain": [
              "   Gender  Height  Weight  Index\n",
              "0       0     174      96      4\n",
              "1       0     189      87      2\n",
              "2       1     185     110      4\n",
              "3       1     195     104      3\n",
              "4       0     149      61      3"
            ]
          },
          "metadata": {
            "tags": []
          },
          "execution_count": 31
        }
      ]
    },
    {
      "cell_type": "code",
      "metadata": {
        "id": "WcM8Iivti_Vq"
      },
      "source": [
        "# the independent variables set\n",
        "X = data[['Gender', 'Height', 'Weight']]"
      ],
      "execution_count": 32,
      "outputs": []
    },
    {
      "cell_type": "code",
      "metadata": {
        "colab": {
          "base_uri": "https://localhost:8080/",
          "height": 203
        },
        "id": "OLtp53N0jCcu",
        "outputId": "e1a31e75-8c40-42c3-be8e-81167b6d1953"
      },
      "source": [
        "X.head()"
      ],
      "execution_count": 33,
      "outputs": [
        {
          "output_type": "execute_result",
          "data": {
            "text/html": [
              "<div>\n",
              "<style scoped>\n",
              "    .dataframe tbody tr th:only-of-type {\n",
              "        vertical-align: middle;\n",
              "    }\n",
              "\n",
              "    .dataframe tbody tr th {\n",
              "        vertical-align: top;\n",
              "    }\n",
              "\n",
              "    .dataframe thead th {\n",
              "        text-align: right;\n",
              "    }\n",
              "</style>\n",
              "<table border=\"1\" class=\"dataframe\">\n",
              "  <thead>\n",
              "    <tr style=\"text-align: right;\">\n",
              "      <th></th>\n",
              "      <th>Gender</th>\n",
              "      <th>Height</th>\n",
              "      <th>Weight</th>\n",
              "    </tr>\n",
              "  </thead>\n",
              "  <tbody>\n",
              "    <tr>\n",
              "      <th>0</th>\n",
              "      <td>0</td>\n",
              "      <td>174</td>\n",
              "      <td>96</td>\n",
              "    </tr>\n",
              "    <tr>\n",
              "      <th>1</th>\n",
              "      <td>0</td>\n",
              "      <td>189</td>\n",
              "      <td>87</td>\n",
              "    </tr>\n",
              "    <tr>\n",
              "      <th>2</th>\n",
              "      <td>1</td>\n",
              "      <td>185</td>\n",
              "      <td>110</td>\n",
              "    </tr>\n",
              "    <tr>\n",
              "      <th>3</th>\n",
              "      <td>1</td>\n",
              "      <td>195</td>\n",
              "      <td>104</td>\n",
              "    </tr>\n",
              "    <tr>\n",
              "      <th>4</th>\n",
              "      <td>0</td>\n",
              "      <td>149</td>\n",
              "      <td>61</td>\n",
              "    </tr>\n",
              "  </tbody>\n",
              "</table>\n",
              "</div>"
            ],
            "text/plain": [
              "   Gender  Height  Weight\n",
              "0       0     174      96\n",
              "1       0     189      87\n",
              "2       1     185     110\n",
              "3       1     195     104\n",
              "4       0     149      61"
            ]
          },
          "metadata": {
            "tags": []
          },
          "execution_count": 33
        }
      ]
    },
    {
      "cell_type": "code",
      "metadata": {
        "id": "G-I0eiD5jDLk",
        "colab": {
          "base_uri": "https://localhost:8080/",
          "height": 142
        },
        "outputId": "d86ae67a-5354-4c78-8b0b-9b6d930af37b"
      },
      "source": [
        "# VIF dataframe\n",
        "vif_data = pd.DataFrame()\n",
        "vif_data[\"feature\"] = X.columns\n",
        "vif_data"
      ],
      "execution_count": 34,
      "outputs": [
        {
          "output_type": "execute_result",
          "data": {
            "text/html": [
              "<div>\n",
              "<style scoped>\n",
              "    .dataframe tbody tr th:only-of-type {\n",
              "        vertical-align: middle;\n",
              "    }\n",
              "\n",
              "    .dataframe tbody tr th {\n",
              "        vertical-align: top;\n",
              "    }\n",
              "\n",
              "    .dataframe thead th {\n",
              "        text-align: right;\n",
              "    }\n",
              "</style>\n",
              "<table border=\"1\" class=\"dataframe\">\n",
              "  <thead>\n",
              "    <tr style=\"text-align: right;\">\n",
              "      <th></th>\n",
              "      <th>feature</th>\n",
              "    </tr>\n",
              "  </thead>\n",
              "  <tbody>\n",
              "    <tr>\n",
              "      <th>0</th>\n",
              "      <td>Gender</td>\n",
              "    </tr>\n",
              "    <tr>\n",
              "      <th>1</th>\n",
              "      <td>Height</td>\n",
              "    </tr>\n",
              "    <tr>\n",
              "      <th>2</th>\n",
              "      <td>Weight</td>\n",
              "    </tr>\n",
              "  </tbody>\n",
              "</table>\n",
              "</div>"
            ],
            "text/plain": [
              "  feature\n",
              "0  Gender\n",
              "1  Height\n",
              "2  Weight"
            ]
          },
          "metadata": {
            "tags": []
          },
          "execution_count": 34
        }
      ]
    },
    {
      "cell_type": "code",
      "metadata": {
        "colab": {
          "base_uri": "https://localhost:8080/"
        },
        "id": "yi3BWGfgyZz3",
        "outputId": "e57aff0b-0d8f-4dd4-8829-db9c0ee768dc"
      },
      "source": [
        "len(X.columns)"
      ],
      "execution_count": 35,
      "outputs": [
        {
          "output_type": "execute_result",
          "data": {
            "text/plain": [
              "3"
            ]
          },
          "metadata": {
            "tags": []
          },
          "execution_count": 35
        }
      ]
    },
    {
      "cell_type": "code",
      "metadata": {
        "colab": {
          "base_uri": "https://localhost:8080/"
        },
        "id": "CONG5NvJjGqN",
        "outputId": "6c20e9ff-7e14-415d-c29d-1eafec45127a"
      },
      "source": [
        "# calculating VIF for each feature\n",
        "vif_data[\"VIF\"] = [variance_inflation_factor(X.values, i)\n",
        "                          for i in range(len(X.columns))]\n",
        "  \n",
        "print(vif_data)"
      ],
      "execution_count": 36,
      "outputs": [
        {
          "output_type": "stream",
          "text": [
            "  feature        VIF\n",
            "0  Gender   2.028864\n",
            "1  Height  11.623103\n",
            "2  Weight  10.688377\n"
          ],
          "name": "stdout"
        }
      ]
    },
    {
      "cell_type": "markdown",
      "metadata": {
        "id": "lc40eVPijLpo"
      },
      "source": [
        "As we can see, height and weight have very high values of VIF, indicating that these two variables are highly correlated. This is expected as the height of a person does influence their weight. Hence, considering these two features together leads to a model with high multicollinearity."
      ]
    },
    {
      "cell_type": "code",
      "metadata": {
        "id": "C38q3fKmjIaA"
      },
      "source": [
        ""
      ],
      "execution_count": null,
      "outputs": []
    },
    {
      "cell_type": "markdown",
      "metadata": {
        "id": "9JNHStrej2iJ"
      },
      "source": [
        "# Final Compilation:\n",
        "\n",
        "**https://www.listendata.com/2018/01/linear-regression-in-python.html**\n",
        "\n",
        "# Happy Learning"
      ]
    }
  ]
}